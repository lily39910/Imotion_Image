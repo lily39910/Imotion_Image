{
 "cells": [
  {
   "cell_type": "code",
   "execution_count": 1,
   "metadata": {},
   "outputs": [
    {
     "name": "stdout",
     "output_type": "stream",
     "text": [
      "avaiable device : cuda\n"
     ]
    }
   ],
   "source": [
    "import torch\n",
    "import torch.nn as nn\n",
    "import torchvision\n",
    "import torchvision.transforms as transforms\n",
    "from torch.utils.data import DataLoader, Dataset\n",
    "device = 'cuda' if torch.cuda.is_available() else 'cpu'\n",
    "print(f'avaiable device : %s' % device)\n",
    "# for reproducibility\n",
    "torch.manual_seed(777)\n",
    "if device == 'cuda':\n",
    "    torch.cuda.manual_seed_all(777)"
   ]
  },
  {
   "cell_type": "code",
   "execution_count": 2,
   "metadata": {},
   "outputs": [
    {
     "name": "stdout",
     "output_type": "stream",
     "text": [
      "torch.Size([3, 224, 224])\n"
     ]
    }
   ],
   "source": [
    "import torchvision.transforms as transforms\n",
    "from PIL import Image\n",
    "\n",
    "# 이미지 불러오기\n",
    "image = Image.open('face.jpg')  # 이미지 경로 지정\n",
    "\n",
    "# 이미지 크기를 124x124로 조정\n",
    "transform = transforms.Compose([\n",
    "    transforms.Resize((224, 224)),\n",
    "    transforms.ToTensor()  # 텐서로 변환\n",
    "])\n",
    "\n",
    "image = transform(image)\n",
    "\n",
    "# 이미지의 크기 확인\n",
    "print(image.shape)  # 출력: torch.Size([3, 124, 124])\n",
    "\n"
   ]
  },
  {
   "cell_type": "code",
   "execution_count": 3,
   "metadata": {},
   "outputs": [
    {
     "name": "stdout",
     "output_type": "stream",
     "text": [
      "torch.Size([1, 3, 224, 224])\n"
     ]
    }
   ],
   "source": [
    "image = torch.unsqueeze(image, 0)  # 이미지의 첫 번째 차원을 확장하여 배치 차원을 추가합니다.\n",
    "image = image.to(device)\n",
    "\n",
    "# 이미지의 크기 확인\n",
    "print(image.shape)  # 출력: torch.Size([3, 124, 124])\n"
   ]
  },
  {
   "cell_type": "code",
   "execution_count": 4,
   "metadata": {},
   "outputs": [
    {
     "name": "stdout",
     "output_type": "stream",
     "text": [
      "tensor([[ 0.5056, -1.1724,  0.4304,  0.2910]], device='cuda:0',\n",
      "       grad_fn=<AddmmBackward0>)\n"
     ]
    }
   ],
   "source": [
    "# 모델에 이미지 전달\n",
    "from models.VGG import vgg11_bn\n",
    "model = vgg11_bn().to(device)\n",
    "model.load_state_dict(torch.load('model_VGG_11_module.pth'))\n",
    "outputs = model(image)\n",
    "# 출력 확인\n",
    "print(outputs)"
   ]
  },
  {
   "cell_type": "code",
   "execution_count": 5,
   "metadata": {},
   "outputs": [
    {
     "name": "stdout",
     "output_type": "stream",
     "text": [
      "Predicted class label: EMOIMG_기쁨_SAMPLE\n"
     ]
    }
   ],
   "source": [
    "classes = ['EMOIMG_기쁨_SAMPLE',\n",
    "                'EMOIMG_당황_SAMPLE',\n",
    "                'EMOIMG_분노_SAMPLE',\n",
    "                'EMOIMG_상처_SAMPLE']\n",
    "probabilities = torch.softmax(outputs, dim=1)\n",
    "predicted_class_index = torch.argmax(probabilities, dim=1)\n",
    "predicted_class_label = classes[predicted_class_index]\n",
    "\n",
    "print(\"Predicted class label:\", predicted_class_label)"
   ]
  }
 ],
 "metadata": {
  "kernelspec": {
   "display_name": "cudaJung",
   "language": "python",
   "name": "python3"
  },
  "language_info": {
   "codemirror_mode": {
    "name": "ipython",
    "version": 3
   },
   "file_extension": ".py",
   "mimetype": "text/x-python",
   "name": "python",
   "nbconvert_exporter": "python",
   "pygments_lexer": "ipython3",
   "version": "3.10.13"
  }
 },
 "nbformat": 4,
 "nbformat_minor": 2
}
